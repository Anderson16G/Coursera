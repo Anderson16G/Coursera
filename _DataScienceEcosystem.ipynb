{
 "cells": [
  {
   "cell_type": "markdown",
   "id": "96c6ed67-68f3-429e-a226-56dca35e8d15",
   "metadata": {},
   "source": [
    "# Data Science Tools and Ecosystem"
   ]
  },
  {
   "cell_type": "markdown",
   "id": "8750493a-8b54-4030-ae16-7b3c580a4292",
   "metadata": {
    "tags": []
   },
   "source": [
    "## In this notebook, Data Science Tools and Ecosystem are summarized."
   ]
  },
  {
   "cell_type": "markdown",
   "id": "61a0bc86-235d-4b84-a650-02a5d25ebadd",
   "metadata": {},
   "source": [
    "Some of the popular languages that Data Scientists use are:\n",
    "1. Python.\n",
    "2. R.\n",
    "3. SQL.\n",
    "4. Julia.\n",
    "5. Scala."
   ]
  },
  {
   "cell_type": "markdown",
   "id": "eb466e01-28bb-4704-b889-0e0e328cec7b",
   "metadata": {},
   "source": [
    "Some of the commonly used libraries used by Data Scientists include:\n",
    "1. pandas.\n",
    "2. Numpy.\n",
    "3. Scikit-learn.\n",
    "4. Tensorflow.\n",
    "5. Keras"
   ]
  },
  {
   "cell_type": "markdown",
   "id": "75108e8d-941e-4726-8b82-95ed87e7a74d",
   "metadata": {},
   "source": [
    "|Data Science Tools|\n",
    "|------------------|\n",
    "|Jupyter Notebooks |\n",
    "|     RStudio      |\n",
    "| Visual Studio Code|"
   ]
  },
  {
   "cell_type": "markdown",
   "id": "13dbbf2e-9844-47ce-b0fb-887634596e06",
   "metadata": {},
   "source": [
    "### Below are a few examples of evaluating arithmetic expressions in Python"
   ]
  },
  {
   "cell_type": "markdown",
   "id": "a2af9871-2a5e-4a83-8eec-a106d93f3862",
   "metadata": {},
   "source": [
    "This a simple arithmetic expression to mutiply then add integers"
   ]
  },
  {
   "cell_type": "code",
   "execution_count": 3,
   "id": "3c001cc4-404f-445e-8851-f460ab7baf64",
   "metadata": {
    "tags": []
   },
   "outputs": [
    {
     "data": {
      "text/plain": [
       "17"
      ]
     },
     "execution_count": 3,
     "metadata": {},
     "output_type": "execute_result"
    }
   ],
   "source": [
    "(3*4)+5"
   ]
  },
  {
   "cell_type": "markdown",
   "id": "a63c4210-98f1-4980-8249-c6085b4da397",
   "metadata": {},
   "source": [
    "This will convert 200 minutes to hours by diving by 60"
   ]
  },
  {
   "cell_type": "code",
   "execution_count": 6,
   "id": "38949945-f3a4-449b-9d42-22fae4ecd12a",
   "metadata": {
    "tags": []
   },
   "outputs": [
    {
     "name": "stdout",
     "output_type": "stream",
     "text": [
      "200 minutes are 3.3333333333333335 hours\n"
     ]
    }
   ],
   "source": [
    "a=200;\n",
    "b=60;\n",
    "c=a/b;\n",
    "print(f\"{a} minutes are {c} hours\")"
   ]
  },
  {
   "cell_type": "markdown",
   "id": "baf31424-cbd7-4c0d-8189-d0f987562821",
   "metadata": {},
   "source": [
    "**Objectives:**\n",
    "\n",
    "List popular languages for Data Science:\n",
    "+ Python.\n",
    "+ R.\n",
    "+ SQL.\n",
    "+ Julia.\n",
    "+ Scala."
   ]
  },
  {
   "cell_type": "markdown",
   "id": "d95b5af8-5504-47ac-bf4a-287c76bcd13b",
   "metadata": {},
   "source": [
    "## Author\n",
    "Anderson Sanchez Goez"
   ]
  },
  {
   "cell_type": "code",
   "execution_count": null,
   "id": "83f0a8d4-7fca-4290-bea5-85f0420530db",
   "metadata": {},
   "outputs": [],
   "source": []
  }
 ],
 "metadata": {
  "kernelspec": {
   "display_name": "Python",
   "language": "python",
   "name": "conda-env-python-py"
  },
  "language_info": {
   "codemirror_mode": {
    "name": "ipython",
    "version": 3
   },
   "file_extension": ".py",
   "mimetype": "text/x-python",
   "name": "python",
   "nbconvert_exporter": "python",
   "pygments_lexer": "ipython3",
   "version": "3.7.12"
  }
 },
 "nbformat": 4,
 "nbformat_minor": 5
}
